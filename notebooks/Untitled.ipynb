{
 "cells": [
  {
   "cell_type": "code",
   "execution_count": 1,
   "id": "cc6b1b16-3122-425f-8b18-095b8ddbb4b9",
   "metadata": {},
   "outputs": [],
   "source": [
    "from jernerics import ode"
   ]
  }
 ],
 "metadata": {
  "kernelspec": {
   "display_name": "Python 3 (ipykernel)",
   "language": "python",
   "name": "python3"
  },
  "language_info": {
   "codemirror_mode": {
    "name": "ipython",
    "version": 3
   },
   "file_extension": ".py",
   "mimetype": "text/x-python",
   "name": "python",
   "nbconvert_exporter": "python",
   "pygments_lexer": "ipython3",
   "version": "3.12.11"
  }
 },
 "nbformat": 4,
 "nbformat_minor": 5
}
