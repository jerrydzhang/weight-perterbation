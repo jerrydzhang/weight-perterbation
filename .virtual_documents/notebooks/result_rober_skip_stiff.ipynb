import numpy as np
import matplotlib.pyplot as plt

import utils.visualize as viz
from utils.ode import map_equation, rober, rober_init

get_ipython().run_line_magic("load_ext", " autoreload")
get_ipython().run_line_magic("autoreload", " 2")


dt = 0.01
visualize = viz.ODEResultVisualizer(
    fun=rober,
    x0=[9.99902462e-01, 1.64381452e-05, 8.10998717e-05],
    t=np.arange(0, 90, dt),
    result_dir="../experiments/results/rober_skip_stiff_20251008-112734",
    # labels=["Br2", "Br", "H2", "H", "HBr", "M"],
)
visualize.solve()


visualize.plot_solution()


visualize.plot_metric_distribution('nmse_mean')


df = visualize.results_df
df.to_csv('temp_data.csv', index=False)


visualize.plot_parameter_heatmap(
    param_x="model_alpha",
    param_y="weight_eps",
    metric="nmse_mean",
    fixed_params={'weight_std': 1e-1},
    # save=True
)


df = visualize.results_df
df.to_csv('temp_data.csv', index=False)


visualize.get_best_model('nmse_mean', fixed_params={'weight_std': 0})


# visualize.plot_best_model_solution('nmse_mean', fixed_params={'weight_std': 0})
model = "13_model"
visualize.plot_model_solution(model, save=False)


# visualize.plot_best_model_coefficients('nmse_mean', fixed_params={'weight_std': 0})
visualize.plot_coefficients(model, save=False)






