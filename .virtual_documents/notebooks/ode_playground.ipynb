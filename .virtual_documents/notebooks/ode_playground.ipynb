import numpy as np
import matplotlib.pyplot as plt
import pysindy as ps
from models import WeightedLasso
from utils.ode import lorenz, hydrogen_bromine, hydrogen_bromine_init, map_equation, rober, rober_init
import pickle as pkl

from scipy.integrate import solve_ivp

get_ipython().run_line_magic("load_ext", " autoreload")
get_ipython().run_line_magic("autoreload", " 2")


dt = 0.002
x0_train = hydrogen_bromine_init
t_train = np.arange(0, 5, dt)
t_train_span = (t_train[0], t_train[-1])

data = solve_ivp(
    hydrogen_bromine,
    t_train_span,
    x0_train,
    rtol=1e-12,
    atol=1e-12,
    method='LSODA',
    t_eval=t_train,
)

X = data.y.T

print("Generated X shape:", X.shape)
print("t_train shape:", t_train.shape)


for i in range(X.shape[1]):
    plt.figure(figsize=(10, 5))
    # plt.plot(t_train, X[:, i], label=f"Dimension {i+1}", lw=0.5)
    plt.plot(data.t, X[:, i], label=f"Dimension {i+1}", lw=0.5)
    plt.xlabel("Time")
    plt.ylabel(f"Trajectory Value (X{i+1})")
    plt.title(f"ODE Trajectory for Dimension {i+1}")
    plt.legend()
    plt.show()


model = pkl.load(open("../experiments/results/hbr_20250924-120317/5_model.pkl", "rb"))


library = ps.PolynomialLibrary(degree=3)
library.fit(X)


# model.coefficients()


true_coef = map_equation(hydrogen_bromine, library)
pred_coef = model.coefficients()

plt.figure(figsize=(10, 5))
plt.subplot(3, 1, 1)
plt.imshow(true_coef, cmap='viridis', aspect='auto')
plt.title("True Coefficients")
plt.subplot(3, 1, 2)
plt.imshow(pred_coef, cmap='viridis', aspect='auto')
plt.title("Predicted Coefficients")
plt.subplot(3, 1, 3)
plt.imshow(np.abs(true_coef - pred_coef), cmap='viridis', aspect='auto')
plt.title("Absolute Error")
plt.colorbar()
plt.tight_layout()
plt.show()



simulated_data = model.simulate(X[0], t_train)


for i in range(X.shape[1]):
    plt.figure(figsize=(10, 5))
    # plt.plot(t_train, X[:, i], label=f"Dimension {i+1}", lw=0.5)
    plt.plot(data.t, X[:, i], label=f"Dimension {i+1}", lw=0.5)
    plt.plot(t_train, simulated_data[:, i], label=f"Simulated {i+1}", lw=0.5, linestyle='--')
    plt.xlabel("Time")
    plt.ylabel(f"Trajectory Value (X{i+1})")
    plt.title(f"ODE Trajectory for Dimension {i+1}")
    plt.legend()
    plt.show()


import json
import pandas as pd
import numpy as np
import matplotlib.pyplot as plt

# Load the JSON file
with open('../combined_results.json', 'r') as f:
    data = json.load(f)

# Process data into a DataFrame
records = []
for model, values in data.items():
    record = {'model': model}
    record.update(values['metrics'])
    record.update(values['parameters'])
    records.append(record)

df = pd.DataFrame(records)

# Replace infinity with NaN for easier processing
df.replace([np.inf, -np.inf], np.nan, inplace=True)

# Find the best model (lowest nmse_mean)
best_model = df.loc[df['nmse_mean'].idxmin()]

print("Best Model:")
print(best_model)

# Plotting
# Filter out models with NaN nmse_mean for plotting
plot_df = df.dropna(subset=['nmse_mean'])

# Create subplots
fig, axes = plt.subplots(2, 2, figsize=(15, 10))
fig.suptitle('Parameter vs. NMSE Mean', fontsize=16)

# Parameters to plot
parameters = ['model_alpha', 'weight_eps', 'weight_factor', 'weight_std']
axes = axes.flatten()

for i, param in enumerate(parameters):
    axes[i].scatter(plot_df[param], plot_df['nmse_mean'])
    axes[i].set_xlabel(param)
    axes[i].set_ylabel('NMSE Mean')
    axes[i].set_title(f'{param} vs. NMSE Mean')
    axes[i].grid(True)

plt.tight_layout(rect=[0, 0.03, 1, 0.95])
plt.savefig('parameter_plots.png')

# Also create individual plots for more clarity and save them
for param in parameters:
    plt.figure(figsize=(8, 6))
    plt.scatter(plot_df[param], plot_df['nmse_mean'])
    plt.xlabel(param)
    plt.ylabel('NMSE Mean')
    plt.title(f'{param} vs. NMSE Mean')
    plt.grid(True)
    plt.savefig(f'{param}_vs_nmse.png')



