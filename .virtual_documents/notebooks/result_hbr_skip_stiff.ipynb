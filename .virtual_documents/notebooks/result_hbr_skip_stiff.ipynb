import numpy as np
import matplotlib.pyplot as plt

import utils.visualize as viz
from utils.ode import map_equation, hydrogen_bromine, hydrogen_bromine_init

get_ipython().run_line_magic("load_ext", " autoreload")
get_ipython().run_line_magic("autoreload", " 2")


dt = 0.002
visualize = viz.ODEResultVisualizer(
    fun=hydrogen_bromine,
    x0=[1.28765293e-09, 7.25644133e-10, 1.65047091e-09, 8.16685447e-15, 1.66990500e-08, 1.00000000e-05],
    t=np.arange(0, 9, dt),
    result_dir="../experiments/results/hbr_skip_stiff_20251008-112728",
    labels=["Br2", "Br", "H2", "H", "HBr", "M"],
)
visualize.solve()


visualize.plot_solution()


visualize.plot_metric_distribution('nmse_mean')


df = visualize.results_df
df.to_csv('temp_data.csv', index=False)


visualize.plot_parameter_heatmap(
    param_x="model_alpha",
    param_y="weight_eps",
    metric="nmse_mean",
    fixed_params={'weight_std': 0},
    save=True
)


df = visualize.results_df
df.to_csv('temp_data.csv', index=False)


visualize.get_best_model('nmse_mean', fixed_params={'weight_std': 0})


# visualize.plot_best_model_solution('nmse_mean', fixed_params={'weight_std': 0})
model = "13_model"
visualize.plot_model_solution(model, save=True)


# visualize.plot_best_model_coefficients('nmse_mean', fixed_params={'weight_std': 0})
visualize.plot_coefficients(model, save=True)






