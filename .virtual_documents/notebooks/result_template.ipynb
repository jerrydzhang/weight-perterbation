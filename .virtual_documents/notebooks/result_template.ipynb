import pickle as pkl

import numpy as np
import matplotlib.pyplot as plt

import utils.visualize as viz
from utils.ode import map_equation, rober_init, rober

get_ipython().run_line_magic("load_ext", " autoreload")
get_ipython().run_line_magic("autoreload", " 2")


dt = 0.02
visualize = viz.ODEResultVisualizer(
    fun=rober,
    x0=rober_init,
    t=np.arange(0, 1e5, dt),
    result_dir="../experiments/results/rober_analytic_20251002-122807",
)
visualize.solve()


visualize.plot_solution()


visualize.plot_metric_distribution('nmse_mean')


visualize.plot_best_model_solution('nmse_mean', fixed_params={'weight_std': 0})


visualize.plot_best_model_coefficients('nmse_mean', fixed_params={'weight_std': 0})



